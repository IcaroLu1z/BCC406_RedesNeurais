{
  "nbformat": 4,
  "nbformat_minor": 0,
  "metadata": {
    "colab": {
      "provenance": [],
      "collapsed_sections": [],
      "authorship_tag": "ABX9TyNln3c7RAwpe/o1hbmapJnX",
      "include_colab_link": true
    },
    "kernelspec": {
      "name": "python3",
      "display_name": "Python 3"
    },
    "language_info": {
      "name": "python"
    }
  },
  "cells": [
    {
      "cell_type": "markdown",
      "metadata": {
        "id": "view-in-github",
        "colab_type": "text"
      },
      "source": [
        "<a href=\"https://colab.research.google.com/github/IcaroLu1z/BCC406_RedesNeurais/blob/main/TrabalhoPratico_RedesNeurais.ipynb\" target=\"_parent\"><img src=\"https://colab.research.google.com/assets/colab-badge.svg\" alt=\"Open In Colab\"/></a>"
      ]
    },
    {
      "cell_type": "code",
      "source": [
        "pip install pytorch-widedeep"
      ],
      "metadata": {
        "colab": {
          "base_uri": "https://localhost:8080/"
        },
        "id": "zaN0tl2TR2Pf",
        "outputId": "405b7e64-ef7f-49cf-a642-7ea42047cfe8"
      },
      "execution_count": null,
      "outputs": [
        {
          "output_type": "stream",
          "name": "stdout",
          "text": [
            "Looking in indexes: https://pypi.org/simple, https://us-python.pkg.dev/colab-wheels/public/simple/\n",
            "Collecting pytorch-widedeep\n",
            "  Downloading pytorch_widedeep-1.2.1-py3-none-any.whl (21.1 MB)\n",
            "\u001b[K     |████████████████████████████████| 21.1 MB 1.6 MB/s \n",
            "\u001b[?25hRequirement already satisfied: scikit-learn>=1.0.2 in /usr/local/lib/python3.7/dist-packages (from pytorch-widedeep) (1.0.2)\n",
            "Requirement already satisfied: numpy>=1.21.6 in /usr/local/lib/python3.7/dist-packages (from pytorch-widedeep) (1.21.6)\n",
            "Requirement already satisfied: scipy>=1.7.3 in /usr/local/lib/python3.7/dist-packages (from pytorch-widedeep) (1.7.3)\n",
            "Requirement already satisfied: torch in /usr/local/lib/python3.7/dist-packages (from pytorch-widedeep) (1.12.1+cu113)\n",
            "Requirement already satisfied: wrapt in /usr/local/lib/python3.7/dist-packages (from pytorch-widedeep) (1.14.1)\n",
            "Collecting fastparquet>=0.8.1\n",
            "  Downloading fastparquet-0.8.1-cp37-cp37m-manylinux_2_17_x86_64.manylinux2014_x86_64.whl (1.5 MB)\n",
            "\u001b[K     |████████████████████████████████| 1.5 MB 35.3 MB/s \n",
            "\u001b[?25hRequirement already satisfied: tqdm in /usr/local/lib/python3.7/dist-packages (from pytorch-widedeep) (4.64.1)\n",
            "Requirement already satisfied: spacy in /usr/local/lib/python3.7/dist-packages (from pytorch-widedeep) (3.4.2)\n",
            "Requirement already satisfied: pyarrow in /usr/local/lib/python3.7/dist-packages (from pytorch-widedeep) (6.0.1)\n",
            "Collecting einops\n",
            "  Downloading einops-0.5.0-py3-none-any.whl (36 kB)\n",
            "Requirement already satisfied: pandas>=1.3.5 in /usr/local/lib/python3.7/dist-packages (from pytorch-widedeep) (1.3.5)\n",
            "Requirement already satisfied: imutils in /usr/local/lib/python3.7/dist-packages (from pytorch-widedeep) (0.5.4)\n",
            "Requirement already satisfied: opencv-contrib-python in /usr/local/lib/python3.7/dist-packages (from pytorch-widedeep) (4.6.0.66)\n",
            "Requirement already satisfied: torchvision in /usr/local/lib/python3.7/dist-packages (from pytorch-widedeep) (0.13.1+cu113)\n",
            "Collecting torchmetrics\n",
            "  Downloading torchmetrics-0.10.1-py3-none-any.whl (529 kB)\n",
            "\u001b[K     |████████████████████████████████| 529 kB 45.5 MB/s \n",
            "\u001b[?25hRequirement already satisfied: gensim in /usr/local/lib/python3.7/dist-packages (from pytorch-widedeep) (3.6.0)\n",
            "Requirement already satisfied: fsspec in /usr/local/lib/python3.7/dist-packages (from fastparquet>=0.8.1->pytorch-widedeep) (2022.10.0)\n",
            "Collecting cramjam>=2.3.0\n",
            "  Downloading cramjam-2.5.0-cp37-cp37m-manylinux_2_5_x86_64.manylinux1_x86_64.whl (1.6 MB)\n",
            "\u001b[K     |████████████████████████████████| 1.6 MB 51.0 MB/s \n",
            "\u001b[?25hRequirement already satisfied: pytz>=2017.3 in /usr/local/lib/python3.7/dist-packages (from pandas>=1.3.5->pytorch-widedeep) (2022.5)\n",
            "Requirement already satisfied: python-dateutil>=2.7.3 in /usr/local/lib/python3.7/dist-packages (from pandas>=1.3.5->pytorch-widedeep) (2.8.2)\n",
            "Requirement already satisfied: six>=1.5 in /usr/local/lib/python3.7/dist-packages (from python-dateutil>=2.7.3->pandas>=1.3.5->pytorch-widedeep) (1.15.0)\n",
            "Requirement already satisfied: threadpoolctl>=2.0.0 in /usr/local/lib/python3.7/dist-packages (from scikit-learn>=1.0.2->pytorch-widedeep) (3.1.0)\n",
            "Requirement already satisfied: joblib>=0.11 in /usr/local/lib/python3.7/dist-packages (from scikit-learn>=1.0.2->pytorch-widedeep) (1.2.0)\n",
            "Requirement already satisfied: smart-open>=1.2.1 in /usr/local/lib/python3.7/dist-packages (from gensim->pytorch-widedeep) (5.2.1)\n",
            "Requirement already satisfied: jinja2 in /usr/local/lib/python3.7/dist-packages (from spacy->pytorch-widedeep) (2.11.3)\n",
            "Requirement already satisfied: srsly<3.0.0,>=2.4.3 in /usr/local/lib/python3.7/dist-packages (from spacy->pytorch-widedeep) (2.4.5)\n",
            "Requirement already satisfied: typer<0.5.0,>=0.3.0 in /usr/local/lib/python3.7/dist-packages (from spacy->pytorch-widedeep) (0.4.2)\n",
            "Requirement already satisfied: requests<3.0.0,>=2.13.0 in /usr/local/lib/python3.7/dist-packages (from spacy->pytorch-widedeep) (2.23.0)\n",
            "Requirement already satisfied: cymem<2.1.0,>=2.0.2 in /usr/local/lib/python3.7/dist-packages (from spacy->pytorch-widedeep) (2.0.7)\n",
            "Requirement already satisfied: langcodes<4.0.0,>=3.2.0 in /usr/local/lib/python3.7/dist-packages (from spacy->pytorch-widedeep) (3.3.0)\n",
            "Requirement already satisfied: catalogue<2.1.0,>=2.0.6 in /usr/local/lib/python3.7/dist-packages (from spacy->pytorch-widedeep) (2.0.8)\n",
            "Requirement already satisfied: typing-extensions<4.2.0,>=3.7.4 in /usr/local/lib/python3.7/dist-packages (from spacy->pytorch-widedeep) (4.1.1)\n",
            "Requirement already satisfied: spacy-legacy<3.1.0,>=3.0.10 in /usr/local/lib/python3.7/dist-packages (from spacy->pytorch-widedeep) (3.0.10)\n",
            "Requirement already satisfied: setuptools in /usr/local/lib/python3.7/dist-packages (from spacy->pytorch-widedeep) (57.4.0)\n",
            "Requirement already satisfied: preshed<3.1.0,>=3.0.2 in /usr/local/lib/python3.7/dist-packages (from spacy->pytorch-widedeep) (3.0.8)\n",
            "Requirement already satisfied: wasabi<1.1.0,>=0.9.1 in /usr/local/lib/python3.7/dist-packages (from spacy->pytorch-widedeep) (0.10.1)\n",
            "Requirement already satisfied: pathy>=0.3.5 in /usr/local/lib/python3.7/dist-packages (from spacy->pytorch-widedeep) (0.6.2)\n",
            "Requirement already satisfied: pydantic!=1.8,!=1.8.1,<1.11.0,>=1.7.4 in /usr/local/lib/python3.7/dist-packages (from spacy->pytorch-widedeep) (1.10.2)\n",
            "Requirement already satisfied: packaging>=20.0 in /usr/local/lib/python3.7/dist-packages (from spacy->pytorch-widedeep) (21.3)\n",
            "Requirement already satisfied: spacy-loggers<2.0.0,>=1.0.0 in /usr/local/lib/python3.7/dist-packages (from spacy->pytorch-widedeep) (1.0.3)\n",
            "Requirement already satisfied: thinc<8.2.0,>=8.1.0 in /usr/local/lib/python3.7/dist-packages (from spacy->pytorch-widedeep) (8.1.5)\n",
            "Requirement already satisfied: murmurhash<1.1.0,>=0.28.0 in /usr/local/lib/python3.7/dist-packages (from spacy->pytorch-widedeep) (1.0.9)\n",
            "Requirement already satisfied: zipp>=0.5 in /usr/local/lib/python3.7/dist-packages (from catalogue<2.1.0,>=2.0.6->spacy->pytorch-widedeep) (3.9.0)\n",
            "Requirement already satisfied: pyparsing!=3.0.5,>=2.0.2 in /usr/local/lib/python3.7/dist-packages (from packaging>=20.0->spacy->pytorch-widedeep) (3.0.9)\n",
            "Requirement already satisfied: certifi>=2017.4.17 in /usr/local/lib/python3.7/dist-packages (from requests<3.0.0,>=2.13.0->spacy->pytorch-widedeep) (2022.9.24)\n",
            "Requirement already satisfied: chardet<4,>=3.0.2 in /usr/local/lib/python3.7/dist-packages (from requests<3.0.0,>=2.13.0->spacy->pytorch-widedeep) (3.0.4)\n",
            "Requirement already satisfied: idna<3,>=2.5 in /usr/local/lib/python3.7/dist-packages (from requests<3.0.0,>=2.13.0->spacy->pytorch-widedeep) (2.10)\n",
            "Requirement already satisfied: urllib3!=1.25.0,!=1.25.1,<1.26,>=1.21.1 in /usr/local/lib/python3.7/dist-packages (from requests<3.0.0,>=2.13.0->spacy->pytorch-widedeep) (1.24.3)\n",
            "Requirement already satisfied: confection<1.0.0,>=0.0.1 in /usr/local/lib/python3.7/dist-packages (from thinc<8.2.0,>=8.1.0->spacy->pytorch-widedeep) (0.0.3)\n",
            "Requirement already satisfied: blis<0.8.0,>=0.7.8 in /usr/local/lib/python3.7/dist-packages (from thinc<8.2.0,>=8.1.0->spacy->pytorch-widedeep) (0.7.9)\n",
            "Requirement already satisfied: click<9.0.0,>=7.1.1 in /usr/local/lib/python3.7/dist-packages (from typer<0.5.0,>=0.3.0->spacy->pytorch-widedeep) (7.1.2)\n",
            "Requirement already satisfied: MarkupSafe>=0.23 in /usr/local/lib/python3.7/dist-packages (from jinja2->spacy->pytorch-widedeep) (2.0.1)\n",
            "Requirement already satisfied: pillow!=8.3.*,>=5.3.0 in /usr/local/lib/python3.7/dist-packages (from torchvision->pytorch-widedeep) (7.1.2)\n",
            "Installing collected packages: cramjam, torchmetrics, fastparquet, einops, pytorch-widedeep\n",
            "Successfully installed cramjam-2.5.0 einops-0.5.0 fastparquet-0.8.1 pytorch-widedeep-1.2.1 torchmetrics-0.10.1\n"
          ]
        }
      ]
    },
    {
      "cell_type": "code",
      "source": [
        "import pandas as pd\n",
        "import numpy as np\n",
        "import torch\n",
        "import sklearn as sk\n",
        "from sklearn.model_selection import train_test_split\n",
        "import seaborn as sns\n",
        "import matplotlib.pyplot as plt\n",
        "\n",
        "from pytorch_widedeep import Trainer\n",
        "from pytorch_widedeep.preprocessing import WidePreprocessor, TabPreprocessor\n",
        "from pytorch_widedeep.models import Wide, TabMlp, WideDeep, SAINT, TabNetDecoder\n",
        "from pytorch_widedeep.metrics import Accuracy, Precision, F1Score\n",
        "from pytorch_widedeep.datasets import load_adult\n",
        "\n",
        "from pytorch_widedeep.models.tabular.transformers import saint\n",
        "from pytorch_widedeep.models.tabular.tabnet.tab_net import TabNet\n",
        "\n",
        "from sklearn.metrics import accuracy_score\n",
        "from sklearn.metrics import classification_report, confusion_matrix"
      ],
      "metadata": {
        "id": "h7yX82ZWwfju"
      },
      "execution_count": null,
      "outputs": []
    },
    {
      "cell_type": "markdown",
      "source": [
        "#***Pre-processamento***"
      ],
      "metadata": {
        "id": "2cyndxS1T7Vt"
      }
    },
    {
      "cell_type": "code",
      "source": [
        "def formatColunm(col, df):\n",
        "  le = sk.preprocessing.LabelEncoder()\n",
        "  le.fit(df[col])\n",
        "  df[col] = le.transform(df[col])"
      ],
      "metadata": {
        "id": "lEMkCbw_y69o"
      },
      "execution_count": null,
      "outputs": []
    },
    {
      "cell_type": "code",
      "source": [
        "# Importar conjunto de dados\n",
        "dfOriginal = pd.read_csv('/content/sample_data/German_Credit_dataset.csv', delimiter=\",\")\n",
        "df = pd.read_csv('/content/sample_data/German_Credit_dataset_balanced.csv', delimiter=\",\")\n",
        "\n",
        "dfOriginal.drop([\"id\", \"'own_telephone'\"], axis = 1, inplace = True)\n",
        "\n",
        "df.drop(\"id\", axis = 1, inplace = True)\n",
        "df_train, df_test = train_test_split(df, test_size=0.3)"
      ],
      "metadata": {
        "id": "x4CTXMlrutlt"
      },
      "execution_count": null,
      "outputs": []
    },
    {
      "cell_type": "code",
      "source": [
        "formatColunm(\"'checking_status'\", dfOriginal)\n",
        "formatColunm(\"'credit_history'\", dfOriginal)\n",
        "formatColunm(\"'purpose'\", dfOriginal)\n",
        "formatColunm(\"'savings_status'\", dfOriginal)\n",
        "formatColunm(\"'employment'\", dfOriginal)\n",
        "formatColunm(\"'personal_status'\", dfOriginal)\n",
        "formatColunm(\"'other_payment_plans'\", dfOriginal)\n",
        "formatColunm(\"'housing'\", dfOriginal)\n",
        "formatColunm(\"'job'\", dfOriginal)\n",
        "formatColunm(\"'foreign_worker'\", dfOriginal)\n",
        "formatColunm(\"'other_parties'\", dfOriginal)\n",
        "formatColunm(\"'property_magnitude'\", dfOriginal)\n",
        "formatColunm(\"'class'\", dfOriginal)\n",
        "\n",
        "shuffled_df = dfOriginal.sample(frac=1,random_state=4)\n",
        "\n",
        "# Put all the fraud class in a separate dataset.\n",
        "bad_df = shuffled_df.loc[dfOriginal[\"'class'\"] == 0]\n",
        "\n",
        "#Randomly select 492 observations from the non-fraud (majority class)\n",
        "good_df = shuffled_df.loc[dfOriginal[\"'class'\"] == 1].sample(n=300,random_state=42)\n",
        "\n",
        "# Concatenate both dataframes again\n",
        "normalized_df = pd.concat([good_df, bad_df])\n",
        "\n",
        "#plot the dataset after the undersampling\n",
        "ax = plt.subplot()\n",
        "plt.figure()\n",
        "\n",
        "sns.countplot(\"'class'\", data=normalized_df, ax=ax)\n",
        "ax.set_xlabel('Classe');ax.set_ylabel('Instancias'); \n",
        "ax.xaxis.set_ticklabels(['Bom', 'Ruim']);\n",
        "\n",
        "dfO_train, dfO_test = train_test_split(normalized_df, test_size=0.4)"
      ],
      "metadata": {
        "colab": {
          "base_uri": "https://localhost:8080/",
          "height": 351
        },
        "id": "dZJVOFpl35Fy",
        "outputId": "fc4f8fd4-0d9d-4982-93f7-5974345879d8"
      },
      "execution_count": null,
      "outputs": [
        {
          "output_type": "stream",
          "name": "stderr",
          "text": [
            "/usr/local/lib/python3.7/dist-packages/seaborn/_decorators.py:43: FutureWarning: Pass the following variable as a keyword arg: x. From version 0.12, the only valid positional argument will be `data`, and passing other arguments without an explicit keyword will result in an error or misinterpretation.\n",
            "  FutureWarning\n"
          ]
        },
        {
          "output_type": "display_data",
          "data": {
            "text/plain": [
              "<Figure size 432x288 with 1 Axes>"
            ],
            "image/png": "[encoded data removed]"
          },
          "metadata": {
            "needs_background": "light"
          }
        },
        {
          "output_type": "display_data",
          "data": {
            "text/plain": [
              "<Figure size 432x288 with 0 Axes>"
            ]
          },
          "metadata": {}
        }
      ]
    },
    {
      "cell_type": "code",
      "source": [
        "# Define the 'column set up'\n",
        "wide_cols = [\n",
        "]\n",
        "\n",
        "crossed_cols = [(\"'duration'\", \"'credit_amount'\"), (\"'duration'\", \"'age'\"), (\"'age'\", \"'credit_amount'\"), (\"'credit_amount'\", \"'purpose'\"), (\"'foreign_worker'\", \"'housing'\")]\n",
        "\n",
        "cat_embed_cols = [\n",
        "    \"'checking_status'\",\n",
        "    \"'credit_history'\",\n",
        "    \"'purpose'\",\n",
        "    \"'savings_status'\",\n",
        "    \"'employment'\",\n",
        "    \"'installment_commitment'\",\n",
        "    \"'personal_status'\",\n",
        "    \"'other_payment_plans'\",\n",
        "    \"'num_dependents'\",\n",
        "    \"'existing_credits'\",\n",
        "    \"'other_parties'\",\n",
        "    \"'property_magnitude'\"\n",
        "]\n",
        "\n",
        "continuous_cols = [\"'age'\", \"'duration'\"]\n",
        "\n",
        "target = \"'class'\"\n",
        "target = df_train[target].values\n",
        "\n",
        "df.head()"
      ],
      "metadata": {
        "id": "xKEV2yMuDrqM",
        "colab": {
          "base_uri": "https://localhost:8080/",
          "height": 299
        },
        "outputId": "211bdf50-f5c6-4d38-f5f6-00d77e5e8122"
      },
      "execution_count": null,
      "outputs": [
        {
          "output_type": "execute_result",
          "data": {
            "text/plain": [
              "   'checking_status'  'duration'  'credit_history'  'purpose'  \\\n",
              "0                  1           6                 1          6   \n",
              "1                  0          48                 3          6   \n",
              "2                  3          12                 1          2   \n",
              "3                  1          42                 3          3   \n",
              "4                  1          24                 2          4   \n",
              "\n",
              "   'credit_amount'  'savings_status'  'employment'  'installment_commitment'  \\\n",
              "0             1169                 4             3                         4   \n",
              "1             5951                 2             0                         2   \n",
              "2             2096                 2             1                         2   \n",
              "3             7882                 2             1                         2   \n",
              "4             4870                 2             0                         3   \n",
              "\n",
              "   'personal_status'  'other_parties'  ...  'property_magnitude'  'age'  \\\n",
              "0                  3                2  ...                     3     67   \n",
              "1                  0                2  ...                     3     22   \n",
              "2                  3                2  ...                     3     49   \n",
              "3                  3                1  ...                     1     45   \n",
              "4                  3                2  ...                     2     53   \n",
              "\n",
              "   'other_payment_plans'  'housing'  'existing_credits'  'job'  \\\n",
              "0                      1          1                   2      1   \n",
              "1                      1          1                   1      1   \n",
              "2                      1          1                   1      3   \n",
              "3                      1          0                   1      1   \n",
              "4                      1          0                   2      1   \n",
              "\n",
              "   'num_dependents'  'own_telephone'  'foreign_worker'  'class'  \n",
              "0                 1                1                 1        1  \n",
              "1                 1                0                 1        0  \n",
              "2                 2                0                 1        1  \n",
              "3                 2                0                 1        1  \n",
              "4                 2                0                 1        0  \n",
              "\n",
              "[5 rows x 21 columns]"
            ],
            "text/html": [
              "\n",
              "  <div id=\"df-dd312e94-b32f-4ea8-8fc4-4b57b6a16d90\">\n",
              "    <div class=\"colab-df-container\">\n",
              "      <div>\n",
              "<style scoped>\n",
              "    .dataframe tbody tr th:only-of-type {\n",
              "        vertical-align: middle;\n",
              "    }\n",
              "\n",
              "    .dataframe tbody tr th {\n",
              "        vertical-align: top;\n",
              "    }\n",
              "\n",
              "    .dataframe thead th {\n",
              "        text-align: right;\n",
              "    }\n",
              "</style>\n",
              "<table border=\"1\" class=\"dataframe\">\n",
              "  <thead>\n",
              "    <tr style=\"text-align: right;\">\n",
              "      <th></th>\n",
              "      <th>'checking_status'</th>\n",
              "      <th>'duration'</th>\n",
              "      <th>'credit_history'</th>\n",
              "      <th>'purpose'</th>\n",
              "      <th>'credit_amount'</th>\n",
              "      <th>'savings_status'</th>\n",
              "      <th>'employment'</th>\n",
              "      <th>'installment_commitment'</th>\n",
              "      <th>'personal_status'</th>\n",
              "      <th>'other_parties'</th>\n",
              "      <th>...</th>\n",
              "      <th>'property_magnitude'</th>\n",
              "      <th>'age'</th>\n",
              "      <th>'other_payment_plans'</th>\n",
              "      <th>'housing'</th>\n",
              "      <th>'existing_credits'</th>\n",
              "      <th>'job'</th>\n",
              "      <th>'num_dependents'</th>\n",
              "      <th>'own_telephone'</th>\n",
              "      <th>'foreign_worker'</th>\n",
              "      <th>'class'</th>\n",
              "    </tr>\n",
              "  </thead>\n",
              "  <tbody>\n",
              "    <tr>\n",
              "      <th>0</th>\n",
              "      <td>1</td>\n",
              "      <td>6</td>\n",
              "      <td>1</td>\n",
              "      <td>6</td>\n",
              "      <td>1169</td>\n",
              "      <td>4</td>\n",
              "      <td>3</td>\n",
              "      <td>4</td>\n",
              "      <td>3</td>\n",
              "      <td>2</td>\n",
              "      <td>...</td>\n",
              "      <td>3</td>\n",
              "      <td>67</td>\n",
              "      <td>1</td>\n",
              "      <td>1</td>\n",
              "      <td>2</td>\n",
              "      <td>1</td>\n",
              "      <td>1</td>\n",
              "      <td>1</td>\n",
              "      <td>1</td>\n",
              "      <td>1</td>\n",
              "    </tr>\n",
              "    <tr>\n",
              "      <th>1</th>\n",
              "      <td>0</td>\n",
              "      <td>48</td>\n",
              "      <td>3</td>\n",
              "      <td>6</td>\n",
              "      <td>5951</td>\n",
              "      <td>2</td>\n",
              "      <td>0</td>\n",
              "      <td>2</td>\n",
              "      <td>0</td>\n",
              "      <td>2</td>\n",
              "      <td>...</td>\n",
              "      <td>3</td>\n",
              "      <td>22</td>\n",
              "      <td>1</td>\n",
              "      <td>1</td>\n",
              "      <td>1</td>\n",
              "      <td>1</td>\n",
              "      <td>1</td>\n",
              "      <td>0</td>\n",
              "      <td>1</td>\n",
              "      <td>0</td>\n",
              "    </tr>\n",
              "    <tr>\n",
              "      <th>2</th>\n",
              "      <td>3</td>\n",
              "      <td>12</td>\n",
              "      <td>1</td>\n",
              "      <td>2</td>\n",
              "      <td>2096</td>\n",
              "      <td>2</td>\n",
              "      <td>1</td>\n",
              "      <td>2</td>\n",
              "      <td>3</td>\n",
              "      <td>2</td>\n",
              "      <td>...</td>\n",
              "      <td>3</td>\n",
              "      <td>49</td>\n",
              "      <td>1</td>\n",
              "      <td>1</td>\n",
              "      <td>1</td>\n",
              "      <td>3</td>\n",
              "      <td>2</td>\n",
              "      <td>0</td>\n",
              "      <td>1</td>\n",
              "      <td>1</td>\n",
              "    </tr>\n",
              "    <tr>\n",
              "      <th>3</th>\n",
              "      <td>1</td>\n",
              "      <td>42</td>\n",
              "      <td>3</td>\n",
              "      <td>3</td>\n",
              "      <td>7882</td>\n",
              "      <td>2</td>\n",
              "      <td>1</td>\n",
              "      <td>2</td>\n",
              "      <td>3</td>\n",
              "      <td>1</td>\n",
              "      <td>...</td>\n",
              "      <td>1</td>\n",
              "      <td>45</td>\n",
              "      <td>1</td>\n",
              "      <td>0</td>\n",
              "      <td>1</td>\n",
              "      <td>1</td>\n",
              "      <td>2</td>\n",
              "      <td>0</td>\n",
              "      <td>1</td>\n",
              "      <td>1</td>\n",
              "    </tr>\n",
              "    <tr>\n",
              "      <th>4</th>\n",
              "      <td>1</td>\n",
              "      <td>24</td>\n",
              "      <td>2</td>\n",
              "      <td>4</td>\n",
              "      <td>4870</td>\n",
              "      <td>2</td>\n",
              "      <td>0</td>\n",
              "      <td>3</td>\n",
              "      <td>3</td>\n",
              "      <td>2</td>\n",
              "      <td>...</td>\n",
              "      <td>2</td>\n",
              "      <td>53</td>\n",
              "      <td>1</td>\n",
              "      <td>0</td>\n",
              "      <td>2</td>\n",
              "      <td>1</td>\n",
              "      <td>2</td>\n",
              "      <td>0</td>\n",
              "      <td>1</td>\n",
              "      <td>0</td>\n",
              "    </tr>\n",
              "  </tbody>\n",
              "</table>\n",
              "<p>5 rows × 21 columns</p>\n",
              "</div>\n",
              "      <button class=\"colab-df-convert\" onclick=\"convertToInteractive('df-dd312e94-b32f-4ea8-8fc4-4b57b6a16d90')\"\n",
              "              title=\"Convert this dataframe to an interactive table.\"\n",
              "              style=\"display:none;\">\n",
              "        \n",
              "  <svg xmlns=\"http://www.w3.org/2000/svg\" height=\"24px\"viewBox=\"0 0 24 24\"\n",
              "       width=\"24px\">\n",
              "    <path d=\"M0 0h24v24H0V0z\" fill=\"none\"/>\n",
              "    <path d=\"M18.56 5.44l.94 2.06.94-2.06 2.06-.94-2.06-.94-.94-2.06-.94 2.06-2.06.94zm-11 1L8.5 8.5l.94-2.06 2.06-.94-2.06-.94L8.5 2.5l-.94 2.06-2.06.94zm10 10l.94 2.06.94-2.06 2.06-.94-2.06-.94-.94-2.06-.94 2.06-2.06.94z\"/><path d=\"M17.41 7.96l-1.37-1.37c-.4-.4-.92-.59-1.43-.59-.52 0-1.04.2-1.43.59L10.3 9.45l-7.72 7.72c-.78.78-.78 2.05 0 2.83L4 21.41c.39.39.9.59 1.41.59.51 0 1.02-.2 1.41-.59l7.78-7.78 2.81-2.81c.8-.78.8-2.07 0-2.86zM5.41 20L4 18.59l7.72-7.72 1.47 1.35L5.41 20z\"/>\n",
              "  </svg>\n",
              "      </button>\n",
              "      \n",
              "  <style>\n",
              "    .colab-df-container {\n",
              "      display:flex;\n",
              "      flex-wrap:wrap;\n",
              "      gap: 12px;\n",
              "    }\n",
              "\n",
              "    .colab-df-convert {\n",
              "      background-color: #E8F0FE;\n",
              "      border: none;\n",
              "      border-radius: 50%;\n",
              "      cursor: pointer;\n",
              "      display: none;\n",
              "      fill: #1967D2;\n",
              "      height: 32px;\n",
              "      padding: 0 0 0 0;\n",
              "      width: 32px;\n",
              "    }\n",
              "\n",
              "    .colab-df-convert:hover {\n",
              "      background-color: #E2EBFA;\n",
              "      box-shadow: 0px 1px 2px rgba(60, 64, 67, 0.3), 0px 1px 3px 1px rgba(60, 64, 67, 0.15);\n",
              "      fill: #174EA6;\n",
              "    }\n",
              "\n",
              "    [theme=dark] .colab-df-convert {\n",
              "      background-color: #3B4455;\n",
              "      fill: #D2E3FC;\n",
              "    }\n",
              "\n",
              "    [theme=dark] .colab-df-convert:hover {\n",
              "      background-color: #434B5C;\n",
              "      box-shadow: 0px 1px 3px 1px rgba(0, 0, 0, 0.15);\n",
              "      filter: drop-shadow(0px 1px 2px rgba(0, 0, 0, 0.3));\n",
              "      fill: #FFFFFF;\n",
              "    }\n",
              "  </style>\n",
              "\n",
              "      <script>\n",
              "        const buttonEl =\n",
              "          document.querySelector('#df-dd312e94-b32f-4ea8-8fc4-4b57b6a16d90 button.colab-df-convert');\n",
              "        buttonEl.style.display =\n",
              "          google.colab.kernel.accessAllowed ? 'block' : 'none';\n",
              "\n",
              "        async function convertToInteractive(key) {\n",
              "          const element = document.querySelector('#df-dd312e94-b32f-4ea8-8fc4-4b57b6a16d90');\n",
              "          const dataTable =\n",
              "            await google.colab.kernel.invokeFunction('convertToInteractive',\n",
              "                                                     [key], {});\n",
              "          if (!dataTable) return;\n",
              "\n",
              "          const docLinkHtml = 'Like what you see? Visit the ' +\n",
              "            '<a target=\"_blank\" href=https://colab.research.google.com/notebooks/data_table.ipynb>data table notebook</a>'\n",
              "            + ' to learn more about interactive tables.';\n",
              "          element.innerHTML = '';\n",
              "          dataTable['output_type'] = 'display_data';\n",
              "          await google.colab.output.renderOutput(dataTable, element);\n",
              "          const docLink = document.createElement('div');\n",
              "          docLink.innerHTML = docLinkHtml;\n",
              "          element.appendChild(docLink);\n",
              "        }\n",
              "      </script>\n",
              "    </div>\n",
              "  </div>\n",
              "  "
            ]
          },
          "metadata": {},
          "execution_count": 6
        }
      ]
    },
    {
      "cell_type": "code",
      "source": [
        "# prepare the data\n",
        "wide_preprocessor = WidePreprocessor(wide_cols=wide_cols, crossed_cols=crossed_cols)\n",
        "X_wide = wide_preprocessor.fit_transform(df_train)\n",
        "\n",
        "tab_preprocessor = TabPreprocessor(\n",
        "    cat_embed_cols=cat_embed_cols, continuous_cols=continuous_cols  # type: ignore[arg-type]\n",
        ")\n",
        "\n",
        "X_tab = tab_preprocessor.fit_transform(df_train)\n",
        "\n",
        "wide = Wide(input_dim=np.unique(X_wide).shape[0], pred_dim=1)\n",
        "\n",
        "params = {\n",
        "        \"column_idx\": tab_preprocessor.column_idx,\n",
        "        \"cat_embed_input\": tab_preprocessor.cat_embed_input,\n",
        "        \"continuous_cols\": tab_preprocessor.continuous_cols,\n",
        "    }\n"
      ],
      "metadata": {
        "id": "o6_l2zO4FdGP"
      },
      "execution_count": null,
      "outputs": []
    },
    {
      "cell_type": "markdown",
      "source": [
        "#***SAINT***"
      ],
      "metadata": {
        "id": "1qJJynRC-QXE"
      }
    },
    {
      "cell_type": "code",
      "source": [
        "saint = SAINT(input_dim=32, n_heads=8, n_blocks=2, transformer_activation='relu', ff_dropout=0.6, **params)\n",
        "\n",
        "\n",
        "\n",
        "model_saint = WideDeep(wide=wide, deeptabular=saint)"
      ],
      "metadata": {
        "id": "FYSn4wabFaIW"
      },
      "execution_count": null,
      "outputs": []
    },
    {
      "cell_type": "code",
      "source": [
        "# train and validate\n",
        "trainer = Trainer(model_saint, objective=\"binary\", metrics=[Accuracy, Precision, F1Score])\n",
        "\n",
        "trainer.fit(\n",
        "    X_wide=X_wide,\n",
        "    X_tab=X_tab,\n",
        "    target=target,\n",
        "    n_epochs=100,\n",
        "    batch_size=4,\n",
        "    finetune=True,\n",
        ")\n"
      ],
      "metadata": {
        "id": "stC8lI-UG2qe",
        "colab": {
          "base_uri": "https://localhost:8080/"
        },
        "outputId": "29ff452b-b975-46ae-d38a-741e2e3ea05c"
      },
      "execution_count": null,
      "outputs": [
        {
          "output_type": "stream",
          "name": "stdout",
          "text": [
            "Training wide for 5 epochs\n"
          ]
        },
        {
          "output_type": "stream",
          "name": "stderr",
          "text": [
            "epoch 1: 100%|██████████| 245/245 [00:04<00:00, 51.97it/s, loss=0.897, metrics={'acc': 0.5, 'prec': 0.4976, 'f1': 0.5594}]\n",
            "epoch 2: 100%|██████████| 245/245 [00:04<00:00, 52.99it/s, loss=0.691, metrics={'acc': 0.5622, 'prec': 0.5521, 'f1': 0.5891}]\n",
            "epoch 3: 100%|██████████| 245/245 [00:04<00:00, 51.11it/s, loss=0.538, metrics={'acc': 0.6197, 'prec': 0.6067, 'f1': 0.6356}]\n",
            "epoch 4: 100%|██████████| 245/245 [00:04<00:00, 54.60it/s, loss=0.446, metrics={'acc': 0.6653, 'prec': 0.6522, 'f1': 0.6751}]\n",
            "epoch 5: 100%|██████████| 245/245 [00:04<00:00, 52.95it/s, loss=0.393, metrics={'acc': 0.7004, 'prec': 0.6882, 'f1': 0.7066}]\n"
          ]
        },
        {
          "output_type": "stream",
          "name": "stdout",
          "text": [
            "Training deeptabular for 5 epochs\n"
          ]
        },
        {
          "output_type": "stream",
          "name": "stderr",
          "text": [
            "epoch 1: 100%|██████████| 245/245 [00:23<00:00, 10.65it/s, loss=0.93, metrics={'acc': 0.6639, 'prec': 0.6563, 'f1': 0.6678}]\n",
            "epoch 2: 100%|██████████| 245/245 [00:24<00:00,  9.80it/s, loss=0.835, metrics={'acc': 0.6445, 'prec': 0.6375, 'f1': 0.6484}]\n",
            "epoch 3: 100%|██████████| 245/245 [00:23<00:00, 10.21it/s, loss=0.781, metrics={'acc': 0.6288, 'prec': 0.6225, 'f1': 0.6326}]\n",
            "epoch 4: 100%|██████████| 245/245 [00:37<00:00,  6.53it/s, loss=0.734, metrics={'acc': 0.6152, 'prec': 0.6096, 'f1': 0.6185}]\n",
            "epoch 5: 100%|██████████| 245/245 [00:34<00:00,  7.13it/s, loss=0.711, metrics={'acc': 0.6056, 'prec': 0.6008, 'f1': 0.6078}]\n"
          ]
        },
        {
          "output_type": "stream",
          "name": "stdout",
          "text": [
            "Fine-tuning (or warmup) of individual components completed. Training the whole model for 100 epochs\n"
          ]
        },
        {
          "output_type": "stream",
          "name": "stderr",
          "text": [
            "epoch 1: 100%|██████████| 245/245 [00:24<00:00,  9.96it/s, loss=0.391, metrics={'acc': 0.8357, 'prec': 0.8368, 'f1': 0.8342}]\n",
            "epoch 2: 100%|██████████| 245/245 [00:22<00:00, 10.88it/s, loss=0.375, metrics={'acc': 0.8449, 'prec': 0.8526, 'f1': 0.842}]\n",
            "epoch 3: 100%|██████████| 245/245 [00:23<00:00, 10.50it/s, loss=0.355, metrics={'acc': 0.852, 'prec': 0.8533, 'f1': 0.8507}]\n",
            "epoch 4: 100%|██████████| 245/245 [00:35<00:00,  6.83it/s, loss=0.342, metrics={'acc': 0.8633, 'prec': 0.8654, 'f1': 0.8619}]\n",
            "epoch 5: 100%|██████████| 245/245 [00:33<00:00,  7.25it/s, loss=0.329, metrics={'acc': 0.8827, 'prec': 0.8908, 'f1': 0.8806}]\n",
            "epoch 6: 100%|██████████| 245/245 [00:34<00:00,  7.13it/s, loss=0.316, metrics={'acc': 0.8949, 'prec': 0.8951, 'f1': 0.8941}]\n",
            "epoch 7: 100%|██████████| 245/245 [00:33<00:00,  7.29it/s, loss=0.303, metrics={'acc': 0.901, 'prec': 0.9079, 'f1': 0.8995}]\n",
            "epoch 8: 100%|██████████| 245/245 [00:33<00:00,  7.27it/s, loss=0.291, metrics={'acc': 0.9092, 'prec': 0.9146, 'f1': 0.908}]\n",
            "epoch 9: 100%|██████████| 245/245 [00:34<00:00,  7.19it/s, loss=0.284, metrics={'acc': 0.9173, 'prec': 0.9212, 'f1': 0.9164}]\n",
            "epoch 10: 100%|██████████| 245/245 [00:34<00:00,  7.06it/s, loss=0.269, metrics={'acc': 0.9265, 'prec': 0.9296, 'f1': 0.9258}]\n",
            "epoch 11: 100%|██████████| 245/245 [00:33<00:00,  7.23it/s, loss=0.257, metrics={'acc': 0.9388, 'prec': 0.9457, 'f1': 0.9379}]\n",
            "epoch 12: 100%|██████████| 245/245 [00:34<00:00,  7.19it/s, loss=0.249, metrics={'acc': 0.948, 'prec': 0.9561, 'f1': 0.9472}]\n",
            "epoch 13: 100%|██████████| 245/245 [00:33<00:00,  7.26it/s, loss=0.24, metrics={'acc': 0.948, 'prec': 0.9523, 'f1': 0.9474}]\n",
            "epoch 14: 100%|██████████| 245/245 [00:34<00:00,  7.05it/s, loss=0.228, metrics={'acc': 0.9541, 'prec': 0.9604, 'f1': 0.9535}]\n",
            "epoch 15: 100%|██████████| 245/245 [00:34<00:00,  7.20it/s, loss=0.222, metrics={'acc': 0.9602, 'prec': 0.9667, 'f1': 0.9597}]\n",
            "epoch 16: 100%|██████████| 245/245 [00:34<00:00,  7.15it/s, loss=0.211, metrics={'acc': 0.9582, 'prec': 0.9533, 'f1': 0.9581}]\n",
            "epoch 17: 100%|██████████| 245/245 [00:34<00:00,  7.19it/s, loss=0.203, metrics={'acc': 0.9663, 'prec': 0.9652, 'f1': 0.9662}]\n",
            "epoch 18: 100%|██████████| 245/245 [00:35<00:00,  6.97it/s, loss=0.191, metrics={'acc': 0.9735, 'prec': 0.9792, 'f1': 0.9731}]\n",
            "epoch 19: 100%|██████████| 245/245 [00:34<00:00,  7.11it/s, loss=0.189, metrics={'acc': 0.9765, 'prec': 0.9793, 'f1': 0.9763}]\n",
            "epoch 20: 100%|██████████| 245/245 [00:34<00:00,  7.13it/s, loss=0.182, metrics={'acc': 0.9724, 'prec': 0.9713, 'f1': 0.9723}]\n",
            "epoch 21: 100%|██████████| 245/245 [00:34<00:00,  7.19it/s, loss=0.171, metrics={'acc': 0.9816, 'prec': 0.9776, 'f1': 0.9816}]\n",
            "epoch 22: 100%|██████████| 245/245 [00:34<00:00,  7.11it/s, loss=0.168, metrics={'acc': 0.9806, 'prec': 0.9815, 'f1': 0.9805}]\n",
            "epoch 23: 100%|██████████| 245/245 [00:34<00:00,  7.14it/s, loss=0.16, metrics={'acc': 0.9837, 'prec': 0.9836, 'f1': 0.9836}]\n",
            "epoch 24: 100%|██████████| 245/245 [00:34<00:00,  7.13it/s, loss=0.155, metrics={'acc': 0.9847, 'prec': 0.9876, 'f1': 0.9846}]\n",
            "epoch 25: 100%|██████████| 245/245 [00:34<00:00,  7.08it/s, loss=0.15, metrics={'acc': 0.9867, 'prec': 0.9877, 'f1': 0.9866}]\n",
            "epoch 26: 100%|██████████| 245/245 [00:35<00:00,  6.90it/s, loss=0.142, metrics={'acc': 0.9908, 'prec': 0.9918, 'f1': 0.9908}]\n",
            "epoch 27: 100%|██████████| 245/245 [00:34<00:00,  7.16it/s, loss=0.137, metrics={'acc': 0.9908, 'prec': 0.9898, 'f1': 0.9908}]\n",
            "epoch 28: 100%|██████████| 245/245 [00:34<00:00,  7.08it/s, loss=0.132, metrics={'acc': 0.9898, 'prec': 0.9918, 'f1': 0.9897}]\n",
            "epoch 29: 100%|██████████| 245/245 [00:34<00:00,  7.18it/s, loss=0.128, metrics={'acc': 0.9898, 'prec': 0.9918, 'f1': 0.9897}]\n",
            "epoch 30: 100%|██████████| 245/245 [00:35<00:00,  6.96it/s, loss=0.122, metrics={'acc': 0.9959, 'prec': 0.9939, 'f1': 0.9959}]\n",
            "epoch 31: 100%|██████████| 245/245 [00:34<00:00,  7.14it/s, loss=0.118, metrics={'acc': 0.9949, 'prec': 0.9939, 'f1': 0.9949}]\n",
            "epoch 32: 100%|██████████| 245/245 [00:34<00:00,  7.12it/s, loss=0.112, metrics={'acc': 0.9959, 'prec': 0.9959, 'f1': 0.9959}]\n",
            "epoch 33: 100%|██████████| 245/245 [00:34<00:00,  7.11it/s, loss=0.108, metrics={'acc': 0.9969, 'prec': 0.9979, 'f1': 0.9969}]\n",
            "epoch 34: 100%|██████████| 245/245 [00:35<00:00,  6.96it/s, loss=0.105, metrics={'acc': 0.998, 'prec': 0.9979, 'f1': 0.9979}]\n",
            "epoch 35: 100%|██████████| 245/245 [00:34<00:00,  7.15it/s, loss=0.0999, metrics={'acc': 0.999, 'prec': 1.0, 'f1': 0.999}]\n",
            "epoch 36: 100%|██████████| 245/245 [00:34<00:00,  7.18it/s, loss=0.0965, metrics={'acc': 0.9959, 'prec': 0.9959, 'f1': 0.9959}]\n",
            "epoch 37: 100%|██████████| 245/245 [00:34<00:00,  7.12it/s, loss=0.0923, metrics={'acc': 0.998, 'prec': 0.9979, 'f1': 0.9979}]\n",
            "epoch 38: 100%|██████████| 245/245 [00:35<00:00,  6.96it/s, loss=0.0884, metrics={'acc': 0.998, 'prec': 0.9979, 'f1': 0.9979}]\n",
            "epoch 39: 100%|██████████| 245/245 [00:34<00:00,  7.12it/s, loss=0.0848, metrics={'acc': 1.0, 'prec': 1.0, 'f1': 1.0}]\n",
            "epoch 40: 100%|██████████| 245/245 [00:34<00:00,  7.06it/s, loss=0.0824, metrics={'acc': 0.998, 'prec': 0.9979, 'f1': 0.9979}]\n",
            "epoch 41: 100%|██████████| 245/245 [00:34<00:00,  7.08it/s, loss=0.0792, metrics={'acc': 0.999, 'prec': 0.998, 'f1': 0.999}]\n",
            "epoch 42: 100%|██████████| 245/245 [00:35<00:00,  6.85it/s, loss=0.0749, metrics={'acc': 0.999, 'prec': 0.998, 'f1': 0.999}]\n",
            "epoch 43: 100%|██████████| 245/245 [00:35<00:00,  6.97it/s, loss=0.073, metrics={'acc': 1.0, 'prec': 1.0, 'f1': 1.0}]\n",
            "epoch 44: 100%|██████████| 245/245 [00:34<00:00,  7.07it/s, loss=0.0689, metrics={'acc': 0.999, 'prec': 1.0, 'f1': 0.999}]\n",
            "epoch 45: 100%|██████████| 245/245 [00:32<00:00,  7.50it/s, loss=0.0669, metrics={'acc': 1.0, 'prec': 1.0, 'f1': 1.0}]\n",
            "epoch 46: 100%|██████████| 245/245 [00:29<00:00,  8.17it/s, loss=0.0632, metrics={'acc': 1.0, 'prec': 1.0, 'f1': 1.0}]\n",
            "epoch 47: 100%|██████████| 245/245 [00:30<00:00,  8.02it/s, loss=0.063, metrics={'acc': 1.0, 'prec': 1.0, 'f1': 1.0}]\n",
            "epoch 48: 100%|██████████| 245/245 [00:34<00:00,  7.18it/s, loss=0.0601, metrics={'acc': 1.0, 'prec': 1.0, 'f1': 1.0}]\n",
            "epoch 49: 100%|██████████| 245/245 [00:32<00:00,  7.49it/s, loss=0.0584, metrics={'acc': 1.0, 'prec': 1.0, 'f1': 1.0}]\n",
            "epoch 50: 100%|██████████| 245/245 [00:33<00:00,  7.39it/s, loss=0.0557, metrics={'acc': 0.999, 'prec': 1.0, 'f1': 0.999}]\n",
            "epoch 51: 100%|██████████| 245/245 [00:35<00:00,  6.85it/s, loss=0.0532, metrics={'acc': 1.0, 'prec': 1.0, 'f1': 1.0}]\n",
            "epoch 52: 100%|██████████| 245/245 [00:32<00:00,  7.46it/s, loss=0.0508, metrics={'acc': 1.0, 'prec': 1.0, 'f1': 1.0}]\n",
            "epoch 53: 100%|██████████| 245/245 [00:32<00:00,  7.63it/s, loss=0.0484, metrics={'acc': 1.0, 'prec': 1.0, 'f1': 1.0}]\n",
            "epoch 54: 100%|██████████| 245/245 [00:32<00:00,  7.55it/s, loss=0.0469, metrics={'acc': 1.0, 'prec': 1.0, 'f1': 1.0}]\n",
            "epoch 55: 100%|██████████| 245/245 [00:34<00:00,  7.00it/s, loss=0.0452, metrics={'acc': 1.0, 'prec': 1.0, 'f1': 1.0}]\n",
            "epoch 56: 100%|██████████| 245/245 [00:34<00:00,  7.11it/s, loss=0.0434, metrics={'acc': 1.0, 'prec': 1.0, 'f1': 1.0}]\n",
            "epoch 57: 100%|██████████| 245/245 [00:33<00:00,  7.36it/s, loss=0.0421, metrics={'acc': 1.0, 'prec': 1.0, 'f1': 1.0}]\n",
            "epoch 58: 100%|██████████| 245/245 [00:33<00:00,  7.27it/s, loss=0.0401, metrics={'acc': 1.0, 'prec': 1.0, 'f1': 1.0}]\n",
            "epoch 59: 100%|██████████| 245/245 [00:34<00:00,  7.10it/s, loss=0.0385, metrics={'acc': 1.0, 'prec': 1.0, 'f1': 1.0}]\n",
            "epoch 60: 100%|██████████| 245/245 [00:34<00:00,  7.19it/s, loss=0.0373, metrics={'acc': 1.0, 'prec': 1.0, 'f1': 1.0}]\n",
            "epoch 61: 100%|██████████| 245/245 [00:34<00:00,  7.20it/s, loss=0.0354, metrics={'acc': 1.0, 'prec': 1.0, 'f1': 1.0}]\n",
            "epoch 62: 100%|██████████| 245/245 [00:34<00:00,  7.14it/s, loss=0.0339, metrics={'acc': 1.0, 'prec': 1.0, 'f1': 1.0}]\n",
            "epoch 63: 100%|██████████| 245/245 [00:35<00:00,  6.95it/s, loss=0.0327, metrics={'acc': 1.0, 'prec': 1.0, 'f1': 1.0}]\n",
            "epoch 64: 100%|██████████| 245/245 [00:33<00:00,  7.21it/s, loss=0.0319, metrics={'acc': 1.0, 'prec': 1.0, 'f1': 1.0}]\n",
            "epoch 65: 100%|██████████| 245/245 [00:33<00:00,  7.22it/s, loss=0.0304, metrics={'acc': 1.0, 'prec': 1.0, 'f1': 1.0}]\n",
            "epoch 66: 100%|██████████| 245/245 [00:34<00:00,  7.17it/s, loss=0.0293, metrics={'acc': 1.0, 'prec': 1.0, 'f1': 1.0}]\n",
            "epoch 67: 100%|██████████| 245/245 [00:34<00:00,  7.09it/s, loss=0.0278, metrics={'acc': 1.0, 'prec': 1.0, 'f1': 1.0}]\n",
            "epoch 68: 100%|██████████| 245/245 [00:34<00:00,  7.19it/s, loss=0.0269, metrics={'acc': 1.0, 'prec': 1.0, 'f1': 1.0}]\n",
            "epoch 69: 100%|██████████| 245/245 [00:33<00:00,  7.23it/s, loss=0.0258, metrics={'acc': 1.0, 'prec': 1.0, 'f1': 1.0}]\n",
            "epoch 70: 100%|██████████| 245/245 [00:34<00:00,  7.17it/s, loss=0.0247, metrics={'acc': 1.0, 'prec': 1.0, 'f1': 1.0}]\n",
            "epoch 71: 100%|██████████| 245/245 [00:34<00:00,  7.12it/s, loss=0.0242, metrics={'acc': 1.0, 'prec': 1.0, 'f1': 1.0}]\n",
            "epoch 72: 100%|██████████| 245/245 [00:34<00:00,  7.10it/s, loss=0.0233, metrics={'acc': 1.0, 'prec': 1.0, 'f1': 1.0}]\n",
            "epoch 73: 100%|██████████| 245/245 [00:34<00:00,  7.21it/s, loss=0.0222, metrics={'acc': 1.0, 'prec': 1.0, 'f1': 1.0}]\n",
            "epoch 74: 100%|██████████| 245/245 [00:34<00:00,  7.15it/s, loss=0.0215, metrics={'acc': 1.0, 'prec': 1.0, 'f1': 1.0}]\n",
            "epoch 75: 100%|██████████| 245/245 [00:34<00:00,  7.06it/s, loss=0.0204, metrics={'acc': 1.0, 'prec': 1.0, 'f1': 1.0}]\n",
            "epoch 76: 100%|██████████| 245/245 [00:34<00:00,  7.18it/s, loss=0.0195, metrics={'acc': 1.0, 'prec': 1.0, 'f1': 1.0}]\n",
            "epoch 77: 100%|██████████| 245/245 [00:34<00:00,  7.09it/s, loss=0.0189, metrics={'acc': 1.0, 'prec': 1.0, 'f1': 1.0}]\n",
            "epoch 78: 100%|██████████| 245/245 [00:34<00:00,  7.14it/s, loss=0.0184, metrics={'acc': 1.0, 'prec': 1.0, 'f1': 1.0}]\n",
            "epoch 79: 100%|██████████| 245/245 [00:35<00:00,  6.97it/s, loss=0.0175, metrics={'acc': 1.0, 'prec': 1.0, 'f1': 1.0}]\n",
            "epoch 80: 100%|██████████| 245/245 [00:34<00:00,  7.05it/s, loss=0.0169, metrics={'acc': 1.0, 'prec': 1.0, 'f1': 1.0}]\n",
            "epoch 81: 100%|██████████| 245/245 [00:35<00:00,  6.97it/s, loss=0.0164, metrics={'acc': 1.0, 'prec': 1.0, 'f1': 1.0}]\n",
            "epoch 82: 100%|██████████| 245/245 [00:35<00:00,  6.95it/s, loss=0.0155, metrics={'acc': 1.0, 'prec': 1.0, 'f1': 1.0}]\n",
            "epoch 83: 100%|██████████| 245/245 [00:36<00:00,  6.80it/s, loss=0.0151, metrics={'acc': 1.0, 'prec': 1.0, 'f1': 1.0}]\n",
            "epoch 84: 100%|██████████| 245/245 [00:35<00:00,  6.87it/s, loss=0.0146, metrics={'acc': 1.0, 'prec': 1.0, 'f1': 1.0}]\n",
            "epoch 85: 100%|██████████| 245/245 [00:35<00:00,  6.86it/s, loss=0.0139, metrics={'acc': 1.0, 'prec': 1.0, 'f1': 1.0}]\n",
            "epoch 86: 100%|██████████| 245/245 [00:35<00:00,  6.94it/s, loss=0.0132, metrics={'acc': 1.0, 'prec': 1.0, 'f1': 1.0}]\n",
            "epoch 87: 100%|██████████| 245/245 [00:35<00:00,  6.81it/s, loss=0.0128, metrics={'acc': 1.0, 'prec': 1.0, 'f1': 1.0}]\n",
            "epoch 88: 100%|██████████| 245/245 [00:35<00:00,  6.99it/s, loss=0.0123, metrics={'acc': 1.0, 'prec': 1.0, 'f1': 1.0}]\n",
            "epoch 89: 100%|██████████| 245/245 [00:35<00:00,  6.95it/s, loss=0.0119, metrics={'acc': 1.0, 'prec': 1.0, 'f1': 1.0}]\n",
            "epoch 90: 100%|██████████| 245/245 [00:36<00:00,  6.78it/s, loss=0.0115, metrics={'acc': 1.0, 'prec': 1.0, 'f1': 1.0}]\n",
            "epoch 91: 100%|██████████| 245/245 [00:35<00:00,  6.85it/s, loss=0.011, metrics={'acc': 1.0, 'prec': 1.0, 'f1': 1.0}]\n",
            "epoch 92: 100%|██████████| 245/245 [00:35<00:00,  6.95it/s, loss=0.0107, metrics={'acc': 1.0, 'prec': 1.0, 'f1': 1.0}]\n",
            "epoch 93: 100%|██████████| 245/245 [00:35<00:00,  6.92it/s, loss=0.0102, metrics={'acc': 1.0, 'prec': 1.0, 'f1': 1.0}]\n",
            "epoch 94: 100%|██████████| 245/245 [00:36<00:00,  6.79it/s, loss=0.00973, metrics={'acc': 1.0, 'prec': 1.0, 'f1': 1.0}]\n",
            "epoch 95: 100%|██████████| 245/245 [00:35<00:00,  6.95it/s, loss=0.0095, metrics={'acc': 1.0, 'prec': 1.0, 'f1': 1.0}]\n",
            "epoch 96: 100%|██████████| 245/245 [00:35<00:00,  6.85it/s, loss=0.00895, metrics={'acc': 1.0, 'prec': 1.0, 'f1': 1.0}]\n",
            "epoch 97: 100%|██████████| 245/245 [00:35<00:00,  6.88it/s, loss=0.0088, metrics={'acc': 1.0, 'prec': 1.0, 'f1': 1.0}]\n",
            "epoch 98: 100%|██████████| 245/245 [00:35<00:00,  6.85it/s, loss=0.00837, metrics={'acc': 1.0, 'prec': 1.0, 'f1': 1.0}]\n",
            "epoch 99: 100%|██████████| 245/245 [00:35<00:00,  6.86it/s, loss=0.00814, metrics={'acc': 1.0, 'prec': 1.0, 'f1': 1.0}]\n",
            "epoch 100: 100%|██████████| 245/245 [00:35<00:00,  6.96it/s, loss=0.00762, metrics={'acc': 1.0, 'prec': 1.0, 'f1': 1.0}]\n"
          ]
        }
      ]
    },
    {
      "cell_type": "code",
      "source": [],
      "metadata": {
        "id": "mfmFDD5v5Lun"
      },
      "execution_count": null,
      "outputs": []
    },
    {
      "cell_type": "code",
      "source": [
        "from sklearn.metrics import accuracy_score\n",
        "from sklearn.metrics import classification_report, confusion_matrix\n",
        "\n",
        "# predict on test\n",
        "X_wide_te = wide_preprocessor.transform(dfO_test)\n",
        "X_tab_te = tab_preprocessor.transform(dfO_test)\n",
        "preds = trainer.predict(X_wide=X_wide_te, X_tab=X_tab_te, batch_size=1)\n",
        "Y_true = dfO_test.values[:,-1]\n",
        "accuracy_score(preds, Y_true)\n",
        "\n",
        "print(classification_report(Y_true, preds))\n",
        "\n",
        "print(confusion_matrix(Y_true, preds))"
      ],
      "metadata": {
        "id": "Lq4K8QIuG1eo",
        "colab": {
          "base_uri": "https://localhost:8080/"
        },
        "outputId": "8d1da474-30d0-4519-9ab9-301e09d92da3"
      },
      "execution_count": null,
      "outputs": [
        {
          "output_type": "stream",
          "name": "stderr",
          "text": [
            "predict:  98%|█████████▊| 60/61 [00:01<00:00, 46.49it/s]\n"
          ]
        },
        {
          "output_type": "stream",
          "name": "stdout",
          "text": [
            "              precision    recall  f1-score   support\n",
            "\n",
            "           0       0.81      0.88      0.84       117\n",
            "           1       0.88      0.80      0.84       123\n",
            "\n",
            "    accuracy                           0.84       240\n",
            "   macro avg       0.84      0.84      0.84       240\n",
            "weighted avg       0.84      0.84      0.84       240\n",
            "\n",
            "[[103  14]\n",
            " [ 24  99]]\n"
          ]
        }
      ]
    },
    {
      "cell_type": "code",
      "source": [
        "ax = plt.subplot()\n",
        "\n",
        "plt.figure()\n",
        "sns.heatmap(confusion_matrix(Y_true, preds), annot=True, fmt=\".0f\", ax=ax)\n",
        "\n",
        "ax.set_xlabel('Predicted labels');ax.set_ylabel('True labels'); \n",
        "ax.set_title('Confusion Matrix');\n",
        "ax.set_title('SAINT'); \n",
        "ax.xaxis.set_ticklabels(['Ruim', 'Bom']); ax.yaxis.set_ticklabels(['Ruim', 'Bom']);\n"
      ],
      "metadata": {
        "colab": {
          "base_uri": "https://localhost:8080/",
          "height": 312
        },
        "id": "PyNs9bmrhwEN",
        "outputId": "09789378-0ddd-401f-99d0-a4cd9e01a9bd"
      },
      "execution_count": null,
      "outputs": [
        {
          "output_type": "display_data",
          "data": {
            "text/plain": [
              "<Figure size 432x288 with 2 Axes>"
            ],
            "image/png": "[encoded data removed]"
          },
          "metadata": {
            "needs_background": "light"
          }
        },
        {
          "output_type": "display_data",
          "data": {
            "text/plain": [
              "<Figure size 432x288 with 0 Axes>"
            ]
          },
          "metadata": {}
        }
      ]
    },
    {
      "cell_type": "markdown",
      "source": [
        "#***TabNet***"
      ],
      "metadata": {
        "id": "mqOajdgf-gNn"
      }
    },
    {
      "cell_type": "code",
      "source": [
        "tabnet = TabNet(**params, n_steps=3, step_dim=8, attn_dim=8, gamma=1.1)\n",
        "model_tabnet = WideDeep(wide=wide, deeptabular=tabnet)\n"
      ],
      "metadata": {
        "id": "AKc1twPy-ZR6",
        "colab": {
          "base_uri": "https://localhost:8080/"
        },
        "outputId": "33d33bef-3d96-4ecd-deec-6a9898a9127d"
      },
      "execution_count": null,
      "outputs": [
        {
          "output_type": "stream",
          "name": "stderr",
          "text": [
            "/usr/local/lib/python3.7/dist-packages/pytorch_widedeep/models/wide_deep.py:394: UserWarning: 'WideDeep' is a model comprised by multiple components and the 'deeptabular' component is 'TabNet'. We recommend using 'TabNet' in isolation. The reasons are: i)'TabNet' uses sparse regularization which partially losses its purpose when used in combination with other components. If you still want to use a multiple component model with 'TabNet', consider setting 'lambda_sparse' to 0 during training. ii) The feature importances will be computed only for TabNet but the model will comprise multiple components. Therefore, such importances will partially lose their 'meaning'.\n",
            "  UserWarning,\n"
          ]
        }
      ]
    },
    {
      "cell_type": "code",
      "source": [
        "trainerTabnet = Trainer(model_tabnet, objective=\"binary\", metrics=[Accuracy, Precision, F1Score], lambda_sparse = 0)\n",
        "\n",
        "trainerTabnet.fit(\n",
        "    X_wide=X_wide,\n",
        "    X_tab=X_tab,\n",
        "    target=target,\n",
        "    n_epochs=100,\n",
        "    batch_size=4,\n",
        ")\n"
      ],
      "metadata": {
        "id": "EJYPjV3n-faZ",
        "colab": {
          "base_uri": "https://localhost:8080/"
        },
        "outputId": "79a23a14-371f-4a92-d904-cc9ad4fb3dca"
      },
      "execution_count": null,
      "outputs": [
        {
          "output_type": "stream",
          "name": "stderr",
          "text": [
            "epoch 1: 100%|██████████| 245/245 [00:08<00:00, 27.60it/s, loss=0.107, metrics={'acc': 0.9806, 'prec': 0.9756, 'f1': 0.9806}]\n",
            "epoch 2: 100%|██████████| 245/245 [00:08<00:00, 28.38it/s, loss=0.0324, metrics={'acc': 0.9918, 'prec': 0.9898, 'f1': 0.9918}]\n",
            "epoch 3: 100%|██████████| 245/245 [00:08<00:00, 29.01it/s, loss=0.0568, metrics={'acc': 0.9908, 'prec': 0.9857, 'f1': 0.9908}]\n",
            "epoch 4: 100%|██████████| 245/245 [00:08<00:00, 29.26it/s, loss=0.0328, metrics={'acc': 0.9888, 'prec': 0.9857, 'f1': 0.9887}]\n",
            "epoch 5: 100%|██████████| 245/245 [00:08<00:00, 29.53it/s, loss=0.0214, metrics={'acc': 0.9959, 'prec': 0.9939, 'f1': 0.9959}]\n"
          ]
        }
      ]
    },
    {
      "cell_type": "code",
      "source": [
        "# predict on test\n",
        "X_wide_te = wide_preprocessor.transform(dfO_test)\n",
        "X_tab_te = tab_preprocessor.transform(dfO_test)\n",
        "predsTabNet = trainerTabnet.predict(X_wide=X_wide_te, X_tab=X_tab_te, batch_size=1)\n",
        "Y_true = dfO_test.values[:,-1]\n",
        "\n",
        "print(classification_report(Y_true, predsTabNet))\n",
        "\n",
        "ax = plt.subplot()\n",
        "plt.figure()\n",
        "sns.heatmap(confusion_matrix(Y_true, predsTabNet), annot=True, fmt=\".0f\", ax=ax)\n",
        "\n",
        "ax.set_xlabel('Predicted labels');ax.set_ylabel('True labels'); \n",
        "ax.set_title('TabNet'); \n",
        "ax.xaxis.set_ticklabels(['Ruim', 'Bom']); ax.yaxis.set_ticklabels(['Ruim', 'Bom']);"
      ],
      "metadata": {
        "id": "qZd8BQKg-ykg",
        "colab": {
          "base_uri": "https://localhost:8080/",
          "height": 486
        },
        "outputId": "3858c573-b933-4293-de3b-723ff36e863d"
      },
      "execution_count": null,
      "outputs": [
        {
          "output_type": "stream",
          "name": "stderr",
          "text": [
            "predict:  98%|█████████▊| 60/61 [00:01<00:00, 57.98it/s]\n"
          ]
        },
        {
          "output_type": "stream",
          "name": "stdout",
          "text": [
            "              precision    recall  f1-score   support\n",
            "\n",
            "           0       0.94      0.81      0.87       126\n",
            "           1       0.82      0.94      0.87       114\n",
            "\n",
            "    accuracy                           0.87       240\n",
            "   macro avg       0.88      0.87      0.87       240\n",
            "weighted avg       0.88      0.87      0.87       240\n",
            "\n"
          ]
        },
        {
          "output_type": "display_data",
          "data": {
            "text/plain": [
              "<Figure size 432x288 with 2 Axes>"
            ],
            "image/png": "[encoded data removed]"
          },
          "metadata": {
            "needs_background": "light"
          }
        },
        {
          "output_type": "display_data",
          "data": {
            "text/plain": [
              "<Figure size 432x288 with 0 Axes>"
            ]
          },
          "metadata": {}
        }
      ]
    },
    {
      "cell_type": "code",
      "source": [],
      "metadata": {
        "id": "ZNYGPBphDGHv"
      },
      "execution_count": null,
      "outputs": []
    }
  ]
}